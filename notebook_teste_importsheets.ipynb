{
  "nbformat": 4,
  "nbformat_minor": 0,
  "metadata": {
    "colab": {
      "provenance": [],
      "mount_file_id": "1RcYQP0bjtljUFFJWAq7XojI6jgy6F0QS",
      "authorship_tag": "ABX9TyM+FlbZ7xv968tYYbfxtWxC",
      "include_colab_link": true
    },
    "kernelspec": {
      "name": "python3",
      "display_name": "Python 3"
    },
    "language_info": {
      "name": "python"
    }
  },
  "cells": [
    {
      "cell_type": "markdown",
      "metadata": {
        "id": "view-in-github",
        "colab_type": "text"
      },
      "source": [
        "<a href=\"https://colab.research.google.com/github/cvs2010/rsp/blob/main/notebook_teste_importsheets.ipynb\" target=\"_parent\"><img src=\"https://colab.research.google.com/assets/colab-badge.svg\" alt=\"Open In Colab\"/></a>"
      ]
    },
    {
      "cell_type": "markdown",
      "source": [
        "# Notebook criado com intuito de gerar um algoritmo para importação dos dados das planilhas Horario RSP"
      ],
      "metadata": {
        "id": "0MOzwXDCbhYE"
      }
    },
    {
      "cell_type": "markdown",
      "source": [
        "Observações:\n",
        "- Tente o mínimo possível utilizar as bandas de GPU e TPU grátis do colab\n",
        "- Esse arquivo é um arquivo de histórico, então tente trabalhar no seu GoogleColab em paralelo, somente suba as células para esse Notebook após finalizar todo o código ou gerar um checkpoint de análise do código (momento em que o código ainda não está pronto, mas necessita de análise do grupo)\n",
        "- Muito cuidado com a edição desse arquivo e de outros arquivos da pasta do Drive: mais uma vez, tente trabalhar em paralelo, nunca utilize os arquivos originais, faça cópia de arquivos e trabalhe com seus arquivos localmente ou via cloud em seu login."
      ],
      "metadata": {
        "id": "Hq6xwbXRcdDh"
      }
    },
    {
      "cell_type": "markdown",
      "source": [
        "Importação de bibliotecas"
      ],
      "metadata": {
        "id": "jAMPz55wdHZ6"
      }
    },
    {
      "cell_type": "code",
      "execution_count": 1,
      "metadata": {
        "id": "uT08r9sxbXSS"
      },
      "outputs": [],
      "source": [
        "import pandas as pd\n",
        "import matplotlib.pyplot as plt\n",
        "import matplotlib.colors as mcolors\n",
        "import seaborn as sns\n",
        "import numpy as np\n",
        "import os"
      ]
    }
  ]
}